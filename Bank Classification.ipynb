{
 "cells": [
  {
   "cell_type": "code",
   "execution_count": 1,
   "id": "51d18b7c",
   "metadata": {
    "_cell_guid": "b1076dfc-b9ad-4769-8c92-a6c4dae69d19",
    "_uuid": "8f2839f25d086af736a60e9eeb907d3b93b6e0e5",
    "execution": {
     "iopub.execute_input": "2025-06-15T04:31:26.702966Z",
     "iopub.status.busy": "2025-06-15T04:31:26.702701Z",
     "iopub.status.idle": "2025-06-15T04:31:28.129994Z",
     "shell.execute_reply": "2025-06-15T04:31:28.129101Z"
    },
    "papermill": {
     "duration": 1.435935,
     "end_time": "2025-06-15T04:31:28.131171",
     "exception": false,
     "start_time": "2025-06-15T04:31:26.695236",
     "status": "completed"
    },
    "tags": []
   },
   "outputs": [
    {
     "name": "stdout",
     "output_type": "stream",
     "text": [
      "/kaggle/input/bank-marketing-dataset/bank.csv\n"
     ]
    }
   ],
   "source": [
    "# This Python 3 environment comes with many helpful analytics libraries installed\n",
    "# It is defined by the kaggle/python Docker image: https://github.com/kaggle/docker-python\n",
    "# For example, here's several helpful packages to load\n",
    "\n",
    "import numpy as np # linear algebra\n",
    "import pandas as pd # data processing, CSV file I/O (e.g. pd.read_csv)\n",
    "\n",
    "# Input data files are available in the read-only \"../input/\" directory\n",
    "# For example, running this (by clicking run or pressing Shift+Enter) will list all files under the input directory\n",
    "\n",
    "import os\n",
    "for dirname, _, filenames in os.walk('/kaggle/input'):\n",
    "    for filename in filenames:\n",
    "        print(os.path.join(dirname, filename))\n",
    "\n",
    "# You can write up to 20GB to the current directory (/kaggle/working/) that gets preserved as output when you create a version using \"Save & Run All\" \n",
    "# You can also write temporary files to /kaggle/temp/, but they won't be saved outside of the current session"
   ]
  },
  {
   "cell_type": "markdown",
   "id": "8cf32db5",
   "metadata": {
    "papermill": {
     "duration": 0.005585,
     "end_time": "2025-06-15T04:31:28.142884",
     "exception": false,
     "start_time": "2025-06-15T04:31:28.137299",
     "status": "completed"
    },
    "tags": []
   },
   "source": [
    "#### IMPORTING REQUIRED LIBRARIES"
   ]
  },
  {
   "cell_type": "code",
   "execution_count": 2,
   "id": "dd87a19d",
   "metadata": {
    "execution": {
     "iopub.execute_input": "2025-06-15T04:31:28.154476Z",
     "iopub.status.busy": "2025-06-15T04:31:28.154139Z",
     "iopub.status.idle": "2025-06-15T04:31:30.905599Z",
     "shell.execute_reply": "2025-06-15T04:31:30.904539Z"
    },
    "papermill": {
     "duration": 2.758824,
     "end_time": "2025-06-15T04:31:30.907017",
     "exception": false,
     "start_time": "2025-06-15T04:31:28.148193",
     "status": "completed"
    },
    "tags": []
   },
   "outputs": [
    {
     "name": "stdout",
     "output_type": "stream",
     "text": [
      "Found existing installation: scikit-learn 1.2.2\r\n",
      "Uninstalling scikit-learn-1.2.2:\r\n",
      "  Successfully uninstalled scikit-learn-1.2.2\r\n",
      "Note: you may need to restart the kernel to use updated packages.\n"
     ]
    }
   ],
   "source": [
    "pip uninstall scikit-learn -y\n"
   ]
  },
  {
   "cell_type": "code",
   "execution_count": 3,
   "id": "e329cd40",
   "metadata": {
    "execution": {
     "iopub.execute_input": "2025-06-15T04:31:30.919559Z",
     "iopub.status.busy": "2025-06-15T04:31:30.919305Z",
     "iopub.status.idle": "2025-06-15T04:31:36.310381Z",
     "shell.execute_reply": "2025-06-15T04:31:36.309326Z"
    },
    "papermill": {
     "duration": 5.398804,
     "end_time": "2025-06-15T04:31:36.311683",
     "exception": false,
     "start_time": "2025-06-15T04:31:30.912879",
     "status": "completed"
    },
    "tags": []
   },
   "outputs": [
    {
     "name": "stdout",
     "output_type": "stream",
     "text": [
      "Collecting scikit-learn==1.3.2\r\n",
      "  Downloading scikit_learn-1.3.2-cp311-cp311-manylinux_2_17_x86_64.manylinux2014_x86_64.whl.metadata (11 kB)\r\n",
      "Requirement already satisfied: numpy<2.0,>=1.17.3 in /usr/local/lib/python3.11/dist-packages (from scikit-learn==1.3.2) (1.26.4)\r\n",
      "Requirement already satisfied: scipy>=1.5.0 in /usr/local/lib/python3.11/dist-packages (from scikit-learn==1.3.2) (1.15.2)\r\n",
      "Requirement already satisfied: joblib>=1.1.1 in /usr/local/lib/python3.11/dist-packages (from scikit-learn==1.3.2) (1.5.0)\r\n",
      "Requirement already satisfied: threadpoolctl>=2.0.0 in /usr/local/lib/python3.11/dist-packages (from scikit-learn==1.3.2) (3.6.0)\r\n",
      "Requirement already satisfied: mkl_fft in /usr/local/lib/python3.11/dist-packages (from numpy<2.0,>=1.17.3->scikit-learn==1.3.2) (1.3.8)\r\n",
      "Requirement already satisfied: mkl_random in /usr/local/lib/python3.11/dist-packages (from numpy<2.0,>=1.17.3->scikit-learn==1.3.2) (1.2.4)\r\n",
      "Requirement already satisfied: mkl_umath in /usr/local/lib/python3.11/dist-packages (from numpy<2.0,>=1.17.3->scikit-learn==1.3.2) (0.1.1)\r\n",
      "Requirement already satisfied: mkl in /usr/local/lib/python3.11/dist-packages (from numpy<2.0,>=1.17.3->scikit-learn==1.3.2) (2025.1.0)\r\n",
      "Requirement already satisfied: tbb4py in /usr/local/lib/python3.11/dist-packages (from numpy<2.0,>=1.17.3->scikit-learn==1.3.2) (2022.1.0)\r\n",
      "Requirement already satisfied: mkl-service in /usr/local/lib/python3.11/dist-packages (from numpy<2.0,>=1.17.3->scikit-learn==1.3.2) (2.4.1)\r\n",
      "Requirement already satisfied: intel-openmp<2026,>=2024 in /usr/local/lib/python3.11/dist-packages (from mkl->numpy<2.0,>=1.17.3->scikit-learn==1.3.2) (2024.2.0)\r\n",
      "Requirement already satisfied: tbb==2022.* in /usr/local/lib/python3.11/dist-packages (from mkl->numpy<2.0,>=1.17.3->scikit-learn==1.3.2) (2022.1.0)\r\n",
      "Requirement already satisfied: tcmlib==1.* in /usr/local/lib/python3.11/dist-packages (from tbb==2022.*->mkl->numpy<2.0,>=1.17.3->scikit-learn==1.3.2) (1.3.0)\r\n",
      "Requirement already satisfied: intel-cmplr-lib-rt in /usr/local/lib/python3.11/dist-packages (from mkl_umath->numpy<2.0,>=1.17.3->scikit-learn==1.3.2) (2024.2.0)\r\n",
      "Requirement already satisfied: intel-cmplr-lib-ur==2024.2.0 in /usr/local/lib/python3.11/dist-packages (from intel-openmp<2026,>=2024->mkl->numpy<2.0,>=1.17.3->scikit-learn==1.3.2) (2024.2.0)\r\n",
      "Downloading scikit_learn-1.3.2-cp311-cp311-manylinux_2_17_x86_64.manylinux2014_x86_64.whl (10.9 MB)\r\n",
      "\u001b[2K   \u001b[90m━━━━━━━━━━━━━━━━━━━━━━━━━━━━━━━━━━━━━━━━\u001b[0m \u001b[32m10.9/10.9 MB\u001b[0m \u001b[31m94.9 MB/s\u001b[0m eta \u001b[36m0:00:00\u001b[0m\r\n",
      "\u001b[?25hInstalling collected packages: scikit-learn\r\n",
      "\u001b[31mERROR: pip's dependency resolver does not currently take into account all the packages that are installed. This behaviour is the source of the following dependency conflicts.\r\n",
      "cesium 0.12.4 requires numpy<3.0,>=2.0, but you have numpy 1.26.4 which is incompatible.\u001b[0m\u001b[31m\r\n",
      "\u001b[0mSuccessfully installed scikit-learn-1.3.2\r\n",
      "Note: you may need to restart the kernel to use updated packages.\n"
     ]
    }
   ],
   "source": [
    "pip install scikit-learn==1.3.2\n"
   ]
  },
  {
   "cell_type": "code",
   "execution_count": 4,
   "id": "f7740b0b",
   "metadata": {
    "execution": {
     "iopub.execute_input": "2025-06-15T04:31:36.325851Z",
     "iopub.status.busy": "2025-06-15T04:31:36.325596Z",
     "iopub.status.idle": "2025-06-15T04:31:37.848241Z",
     "shell.execute_reply": "2025-06-15T04:31:37.847462Z"
    },
    "papermill": {
     "duration": 1.531098,
     "end_time": "2025-06-15T04:31:37.849341",
     "exception": false,
     "start_time": "2025-06-15T04:31:36.318243",
     "status": "completed"
    },
    "tags": []
   },
   "outputs": [
    {
     "name": "stdout",
     "output_type": "stream",
     "text": [
      "1.3.2\n",
      "0.13.0\n"
     ]
    }
   ],
   "source": [
    "import sklearn\n",
    "import imblearn\n",
    "print(sklearn.__version__)\n",
    "print(imblearn.__version__)"
   ]
  },
  {
   "cell_type": "code",
   "execution_count": 5,
   "id": "dafd9c82",
   "metadata": {
    "execution": {
     "iopub.execute_input": "2025-06-15T04:31:37.862809Z",
     "iopub.status.busy": "2025-06-15T04:31:37.862159Z",
     "iopub.status.idle": "2025-06-15T04:31:38.247105Z",
     "shell.execute_reply": "2025-06-15T04:31:38.246315Z"
    },
    "papermill": {
     "duration": 0.393087,
     "end_time": "2025-06-15T04:31:38.248598",
     "exception": false,
     "start_time": "2025-06-15T04:31:37.855511",
     "status": "completed"
    },
    "tags": []
   },
   "outputs": [],
   "source": [
    "# Cell 3: Your actual imports and code\n",
    "# These imports should now work without the UnsetMetadataPassedError\n",
    "import pandas as pd\n",
    "import numpy as np\n",
    "import seaborn as sns\n",
    "import matplotlib.pyplot as plt\n",
    "from sklearn.model_selection import train_test_split\n",
    "from sklearn.preprocessing import StandardScaler, OneHotEncoder\n",
    "from sklearn.compose import ColumnTransformer\n",
    "from sklearn.pipeline import Pipeline\n",
    "from sklearn.linear_model import LogisticRegression\n",
    "from sklearn.ensemble import RandomForestClassifier, GradientBoostingClassifier\n",
    "from sklearn.metrics import classification_report, confusion_matrix, roc_auc_score, roc_curve, precision_recall_curve, auc\n",
    "from imblearn.over_sampling import SMOTE\n",
    "from imblearn.pipeline import Pipeline as ImbPipeline\n",
    "from sklearn.exceptions import UnsetMetadataPassedError # This specific import should now work if needed\n",
    "\n"
   ]
  },
  {
   "cell_type": "code",
   "execution_count": 6,
   "id": "29b3e56c",
   "metadata": {
    "execution": {
     "iopub.execute_input": "2025-06-15T04:31:38.262460Z",
     "iopub.status.busy": "2025-06-15T04:31:38.262024Z",
     "iopub.status.idle": "2025-06-15T04:31:38.328847Z",
     "shell.execute_reply": "2025-06-15T04:31:38.328122Z"
    },
    "papermill": {
     "duration": 0.074908,
     "end_time": "2025-06-15T04:31:38.329918",
     "exception": false,
     "start_time": "2025-06-15T04:31:38.255010",
     "status": "completed"
    },
    "tags": []
   },
   "outputs": [
    {
     "data": {
      "text/html": [
       "<div>\n",
       "<style scoped>\n",
       "    .dataframe tbody tr th:only-of-type {\n",
       "        vertical-align: middle;\n",
       "    }\n",
       "\n",
       "    .dataframe tbody tr th {\n",
       "        vertical-align: top;\n",
       "    }\n",
       "\n",
       "    .dataframe thead th {\n",
       "        text-align: right;\n",
       "    }\n",
       "</style>\n",
       "<table border=\"1\" class=\"dataframe\">\n",
       "  <thead>\n",
       "    <tr style=\"text-align: right;\">\n",
       "      <th></th>\n",
       "      <th>age</th>\n",
       "      <th>job</th>\n",
       "      <th>marital</th>\n",
       "      <th>education</th>\n",
       "      <th>default</th>\n",
       "      <th>balance</th>\n",
       "      <th>housing</th>\n",
       "      <th>loan</th>\n",
       "      <th>contact</th>\n",
       "      <th>day</th>\n",
       "      <th>month</th>\n",
       "      <th>duration</th>\n",
       "      <th>campaign</th>\n",
       "      <th>pdays</th>\n",
       "      <th>previous</th>\n",
       "      <th>poutcome</th>\n",
       "      <th>deposit</th>\n",
       "    </tr>\n",
       "  </thead>\n",
       "  <tbody>\n",
       "    <tr>\n",
       "      <th>0</th>\n",
       "      <td>59</td>\n",
       "      <td>admin.</td>\n",
       "      <td>married</td>\n",
       "      <td>secondary</td>\n",
       "      <td>no</td>\n",
       "      <td>2343</td>\n",
       "      <td>yes</td>\n",
       "      <td>no</td>\n",
       "      <td>unknown</td>\n",
       "      <td>5</td>\n",
       "      <td>may</td>\n",
       "      <td>1042</td>\n",
       "      <td>1</td>\n",
       "      <td>-1</td>\n",
       "      <td>0</td>\n",
       "      <td>unknown</td>\n",
       "      <td>yes</td>\n",
       "    </tr>\n",
       "    <tr>\n",
       "      <th>1</th>\n",
       "      <td>56</td>\n",
       "      <td>admin.</td>\n",
       "      <td>married</td>\n",
       "      <td>secondary</td>\n",
       "      <td>no</td>\n",
       "      <td>45</td>\n",
       "      <td>no</td>\n",
       "      <td>no</td>\n",
       "      <td>unknown</td>\n",
       "      <td>5</td>\n",
       "      <td>may</td>\n",
       "      <td>1467</td>\n",
       "      <td>1</td>\n",
       "      <td>-1</td>\n",
       "      <td>0</td>\n",
       "      <td>unknown</td>\n",
       "      <td>yes</td>\n",
       "    </tr>\n",
       "    <tr>\n",
       "      <th>2</th>\n",
       "      <td>41</td>\n",
       "      <td>technician</td>\n",
       "      <td>married</td>\n",
       "      <td>secondary</td>\n",
       "      <td>no</td>\n",
       "      <td>1270</td>\n",
       "      <td>yes</td>\n",
       "      <td>no</td>\n",
       "      <td>unknown</td>\n",
       "      <td>5</td>\n",
       "      <td>may</td>\n",
       "      <td>1389</td>\n",
       "      <td>1</td>\n",
       "      <td>-1</td>\n",
       "      <td>0</td>\n",
       "      <td>unknown</td>\n",
       "      <td>yes</td>\n",
       "    </tr>\n",
       "    <tr>\n",
       "      <th>3</th>\n",
       "      <td>55</td>\n",
       "      <td>services</td>\n",
       "      <td>married</td>\n",
       "      <td>secondary</td>\n",
       "      <td>no</td>\n",
       "      <td>2476</td>\n",
       "      <td>yes</td>\n",
       "      <td>no</td>\n",
       "      <td>unknown</td>\n",
       "      <td>5</td>\n",
       "      <td>may</td>\n",
       "      <td>579</td>\n",
       "      <td>1</td>\n",
       "      <td>-1</td>\n",
       "      <td>0</td>\n",
       "      <td>unknown</td>\n",
       "      <td>yes</td>\n",
       "    </tr>\n",
       "  </tbody>\n",
       "</table>\n",
       "</div>"
      ],
      "text/plain": [
       "   age         job  marital  education default  balance housing loan  contact  \\\n",
       "0   59      admin.  married  secondary      no     2343     yes   no  unknown   \n",
       "1   56      admin.  married  secondary      no       45      no   no  unknown   \n",
       "2   41  technician  married  secondary      no     1270     yes   no  unknown   \n",
       "3   55    services  married  secondary      no     2476     yes   no  unknown   \n",
       "\n",
       "   day month  duration  campaign  pdays  previous poutcome deposit  \n",
       "0    5   may      1042         1     -1         0  unknown     yes  \n",
       "1    5   may      1467         1     -1         0  unknown     yes  \n",
       "2    5   may      1389         1     -1         0  unknown     yes  \n",
       "3    5   may       579         1     -1         0  unknown     yes  "
      ]
     },
     "execution_count": 6,
     "metadata": {},
     "output_type": "execute_result"
    }
   ],
   "source": [
    "df = pd.read_csv(\"/kaggle/input/bank-marketing-dataset/bank.csv\")\n",
    "df.head(4)"
   ]
  },
  {
   "cell_type": "code",
   "execution_count": 7,
   "id": "ebfd191b",
   "metadata": {
    "execution": {
     "iopub.execute_input": "2025-06-15T04:31:38.343330Z",
     "iopub.status.busy": "2025-06-15T04:31:38.343090Z",
     "iopub.status.idle": "2025-06-15T04:31:38.347355Z",
     "shell.execute_reply": "2025-06-15T04:31:38.346824Z"
    },
    "papermill": {
     "duration": 0.012029,
     "end_time": "2025-06-15T04:31:38.348434",
     "exception": false,
     "start_time": "2025-06-15T04:31:38.336405",
     "status": "completed"
    },
    "tags": []
   },
   "outputs": [
    {
     "data": {
      "text/plain": [
       "(11162, 17)"
      ]
     },
     "execution_count": 7,
     "metadata": {},
     "output_type": "execute_result"
    }
   ],
   "source": [
    "df.shape"
   ]
  },
  {
   "cell_type": "code",
   "execution_count": 8,
   "id": "ed32b05c",
   "metadata": {
    "execution": {
     "iopub.execute_input": "2025-06-15T04:31:38.361523Z",
     "iopub.status.busy": "2025-06-15T04:31:38.361335Z",
     "iopub.status.idle": "2025-06-15T04:31:38.385827Z",
     "shell.execute_reply": "2025-06-15T04:31:38.385266Z"
    },
    "papermill": {
     "duration": 0.032225,
     "end_time": "2025-06-15T04:31:38.386884",
     "exception": false,
     "start_time": "2025-06-15T04:31:38.354659",
     "status": "completed"
    },
    "tags": []
   },
   "outputs": [
    {
     "data": {
      "text/html": [
       "<div>\n",
       "<style scoped>\n",
       "    .dataframe tbody tr th:only-of-type {\n",
       "        vertical-align: middle;\n",
       "    }\n",
       "\n",
       "    .dataframe tbody tr th {\n",
       "        vertical-align: top;\n",
       "    }\n",
       "\n",
       "    .dataframe thead th {\n",
       "        text-align: right;\n",
       "    }\n",
       "</style>\n",
       "<table border=\"1\" class=\"dataframe\">\n",
       "  <thead>\n",
       "    <tr style=\"text-align: right;\">\n",
       "      <th></th>\n",
       "      <th>age</th>\n",
       "      <th>balance</th>\n",
       "      <th>day</th>\n",
       "      <th>duration</th>\n",
       "      <th>campaign</th>\n",
       "      <th>pdays</th>\n",
       "      <th>previous</th>\n",
       "    </tr>\n",
       "  </thead>\n",
       "  <tbody>\n",
       "    <tr>\n",
       "      <th>count</th>\n",
       "      <td>11162.000000</td>\n",
       "      <td>11162.000000</td>\n",
       "      <td>11162.000000</td>\n",
       "      <td>11162.000000</td>\n",
       "      <td>11162.000000</td>\n",
       "      <td>11162.000000</td>\n",
       "      <td>11162.000000</td>\n",
       "    </tr>\n",
       "    <tr>\n",
       "      <th>mean</th>\n",
       "      <td>41.231948</td>\n",
       "      <td>1528.538524</td>\n",
       "      <td>15.658036</td>\n",
       "      <td>371.993818</td>\n",
       "      <td>2.508421</td>\n",
       "      <td>51.330407</td>\n",
       "      <td>0.832557</td>\n",
       "    </tr>\n",
       "    <tr>\n",
       "      <th>std</th>\n",
       "      <td>11.913369</td>\n",
       "      <td>3225.413326</td>\n",
       "      <td>8.420740</td>\n",
       "      <td>347.128386</td>\n",
       "      <td>2.722077</td>\n",
       "      <td>108.758282</td>\n",
       "      <td>2.292007</td>\n",
       "    </tr>\n",
       "    <tr>\n",
       "      <th>min</th>\n",
       "      <td>18.000000</td>\n",
       "      <td>-6847.000000</td>\n",
       "      <td>1.000000</td>\n",
       "      <td>2.000000</td>\n",
       "      <td>1.000000</td>\n",
       "      <td>-1.000000</td>\n",
       "      <td>0.000000</td>\n",
       "    </tr>\n",
       "    <tr>\n",
       "      <th>25%</th>\n",
       "      <td>32.000000</td>\n",
       "      <td>122.000000</td>\n",
       "      <td>8.000000</td>\n",
       "      <td>138.000000</td>\n",
       "      <td>1.000000</td>\n",
       "      <td>-1.000000</td>\n",
       "      <td>0.000000</td>\n",
       "    </tr>\n",
       "    <tr>\n",
       "      <th>50%</th>\n",
       "      <td>39.000000</td>\n",
       "      <td>550.000000</td>\n",
       "      <td>15.000000</td>\n",
       "      <td>255.000000</td>\n",
       "      <td>2.000000</td>\n",
       "      <td>-1.000000</td>\n",
       "      <td>0.000000</td>\n",
       "    </tr>\n",
       "    <tr>\n",
       "      <th>75%</th>\n",
       "      <td>49.000000</td>\n",
       "      <td>1708.000000</td>\n",
       "      <td>22.000000</td>\n",
       "      <td>496.000000</td>\n",
       "      <td>3.000000</td>\n",
       "      <td>20.750000</td>\n",
       "      <td>1.000000</td>\n",
       "    </tr>\n",
       "    <tr>\n",
       "      <th>max</th>\n",
       "      <td>95.000000</td>\n",
       "      <td>81204.000000</td>\n",
       "      <td>31.000000</td>\n",
       "      <td>3881.000000</td>\n",
       "      <td>63.000000</td>\n",
       "      <td>854.000000</td>\n",
       "      <td>58.000000</td>\n",
       "    </tr>\n",
       "  </tbody>\n",
       "</table>\n",
       "</div>"
      ],
      "text/plain": [
       "                age       balance           day      duration      campaign  \\\n",
       "count  11162.000000  11162.000000  11162.000000  11162.000000  11162.000000   \n",
       "mean      41.231948   1528.538524     15.658036    371.993818      2.508421   \n",
       "std       11.913369   3225.413326      8.420740    347.128386      2.722077   \n",
       "min       18.000000  -6847.000000      1.000000      2.000000      1.000000   \n",
       "25%       32.000000    122.000000      8.000000    138.000000      1.000000   \n",
       "50%       39.000000    550.000000     15.000000    255.000000      2.000000   \n",
       "75%       49.000000   1708.000000     22.000000    496.000000      3.000000   \n",
       "max       95.000000  81204.000000     31.000000   3881.000000     63.000000   \n",
       "\n",
       "              pdays      previous  \n",
       "count  11162.000000  11162.000000  \n",
       "mean      51.330407      0.832557  \n",
       "std      108.758282      2.292007  \n",
       "min       -1.000000      0.000000  \n",
       "25%       -1.000000      0.000000  \n",
       "50%       -1.000000      0.000000  \n",
       "75%       20.750000      1.000000  \n",
       "max      854.000000     58.000000  "
      ]
     },
     "execution_count": 8,
     "metadata": {},
     "output_type": "execute_result"
    }
   ],
   "source": [
    "df.describe()"
   ]
  },
  {
   "cell_type": "markdown",
   "id": "0e08717e",
   "metadata": {
    "papermill": {
     "duration": 0.006169,
     "end_time": "2025-06-15T04:31:38.399666",
     "exception": false,
     "start_time": "2025-06-15T04:31:38.393497",
     "status": "completed"
    },
    "tags": []
   },
   "source": [
    "Interpreting Describe:\n",
    "\n",
    "* The smallest age is 18 and the largest is 95\n",
    "* On an average, people are having a balance of 1528.53 with max as $81,204 with minimum in default ($-6847)\n",
    "* Probably a lot of outliers present as mean and std are far from max and min values"
   ]
  },
  {
   "cell_type": "code",
   "execution_count": 9,
   "id": "d0629c27",
   "metadata": {
    "execution": {
     "iopub.execute_input": "2025-06-15T04:31:38.413906Z",
     "iopub.status.busy": "2025-06-15T04:31:38.413388Z",
     "iopub.status.idle": "2025-06-15T04:31:38.433190Z",
     "shell.execute_reply": "2025-06-15T04:31:38.432410Z"
    },
    "papermill": {
     "duration": 0.028301,
     "end_time": "2025-06-15T04:31:38.434259",
     "exception": false,
     "start_time": "2025-06-15T04:31:38.405958",
     "status": "completed"
    },
    "tags": []
   },
   "outputs": [
    {
     "name": "stdout",
     "output_type": "stream",
     "text": [
      "<class 'pandas.core.frame.DataFrame'>\n",
      "RangeIndex: 11162 entries, 0 to 11161\n",
      "Data columns (total 17 columns):\n",
      " #   Column     Non-Null Count  Dtype \n",
      "---  ------     --------------  ----- \n",
      " 0   age        11162 non-null  int64 \n",
      " 1   job        11162 non-null  object\n",
      " 2   marital    11162 non-null  object\n",
      " 3   education  11162 non-null  object\n",
      " 4   default    11162 non-null  object\n",
      " 5   balance    11162 non-null  int64 \n",
      " 6   housing    11162 non-null  object\n",
      " 7   loan       11162 non-null  object\n",
      " 8   contact    11162 non-null  object\n",
      " 9   day        11162 non-null  int64 \n",
      " 10  month      11162 non-null  object\n",
      " 11  duration   11162 non-null  int64 \n",
      " 12  campaign   11162 non-null  int64 \n",
      " 13  pdays      11162 non-null  int64 \n",
      " 14  previous   11162 non-null  int64 \n",
      " 15  poutcome   11162 non-null  object\n",
      " 16  deposit    11162 non-null  object\n",
      "dtypes: int64(7), object(10)\n",
      "memory usage: 1.4+ MB\n"
     ]
    }
   ],
   "source": [
    "df.info()"
   ]
  },
  {
   "cell_type": "markdown",
   "id": "ac9f8929",
   "metadata": {
    "papermill": {
     "duration": 0.006176,
     "end_time": "2025-06-15T04:31:38.447426",
     "exception": false,
     "start_time": "2025-06-15T04:31:38.441250",
     "status": "completed"
    },
    "tags": []
   },
   "source": [
    "Checking for null values"
   ]
  },
  {
   "cell_type": "code",
   "execution_count": 10,
   "id": "9858fc45",
   "metadata": {
    "execution": {
     "iopub.execute_input": "2025-06-15T04:31:38.460965Z",
     "iopub.status.busy": "2025-06-15T04:31:38.460553Z",
     "iopub.status.idle": "2025-06-15T04:31:38.470519Z",
     "shell.execute_reply": "2025-06-15T04:31:38.469906Z"
    },
    "papermill": {
     "duration": 0.017869,
     "end_time": "2025-06-15T04:31:38.471546",
     "exception": false,
     "start_time": "2025-06-15T04:31:38.453677",
     "status": "completed"
    },
    "tags": []
   },
   "outputs": [
    {
     "data": {
      "text/plain": [
       "age          0\n",
       "job          0\n",
       "marital      0\n",
       "education    0\n",
       "default      0\n",
       "balance      0\n",
       "housing      0\n",
       "loan         0\n",
       "contact      0\n",
       "day          0\n",
       "month        0\n",
       "duration     0\n",
       "campaign     0\n",
       "pdays        0\n",
       "previous     0\n",
       "poutcome     0\n",
       "deposit      0\n",
       "dtype: int64"
      ]
     },
     "execution_count": 10,
     "metadata": {},
     "output_type": "execute_result"
    }
   ],
   "source": [
    "df.isnull().sum()\n",
    "#there are no missing values so no need for imputations"
   ]
  },
  {
   "cell_type": "code",
   "execution_count": 11,
   "id": "de67f39d",
   "metadata": {
    "execution": {
     "iopub.execute_input": "2025-06-15T04:31:38.485123Z",
     "iopub.status.busy": "2025-06-15T04:31:38.484922Z",
     "iopub.status.idle": "2025-06-15T04:31:38.496807Z",
     "shell.execute_reply": "2025-06-15T04:31:38.496106Z"
    },
    "papermill": {
     "duration": 0.019949,
     "end_time": "2025-06-15T04:31:38.497923",
     "exception": false,
     "start_time": "2025-06-15T04:31:38.477974",
     "status": "completed"
    },
    "tags": []
   },
   "outputs": [
    {
     "data": {
      "text/plain": [
       "0"
      ]
     },
     "execution_count": 11,
     "metadata": {},
     "output_type": "execute_result"
    }
   ],
   "source": [
    "#checking if there are duplicated values\n",
    "df.duplicated().sum()\n",
    "#no duplicated rows"
   ]
  },
  {
   "cell_type": "code",
   "execution_count": 12,
   "id": "f08d14e1",
   "metadata": {
    "execution": {
     "iopub.execute_input": "2025-06-15T04:31:38.512313Z",
     "iopub.status.busy": "2025-06-15T04:31:38.512097Z",
     "iopub.status.idle": "2025-06-15T04:31:39.622454Z",
     "shell.execute_reply": "2025-06-15T04:31:39.621713Z"
    },
    "papermill": {
     "duration": 1.118838,
     "end_time": "2025-06-15T04:31:39.623622",
     "exception": false,
     "start_time": "2025-06-15T04:31:38.504784",
     "status": "completed"
    },
    "tags": []
   },
   "outputs": [
    {
     "name": "stderr",
     "output_type": "stream",
     "text": [
      "/usr/local/lib/python3.11/dist-packages/seaborn/_oldcore.py:1119: FutureWarning: use_inf_as_na option is deprecated and will be removed in a future version. Convert inf values to NaN before operating instead.\n",
      "  with pd.option_context('mode.use_inf_as_na', True):\n"
     ]
    },
    {
     "data": {
      "text/plain": [
       "<Axes: xlabel='balance', ylabel='Count'>"
      ]
     },
     "execution_count": 12,
     "metadata": {},
     "output_type": "execute_result"
    },
    {
     "data": {
      "image/png": "[encoded data removed]",
      "text/plain": [
       "<Figure size 640x480 with 1 Axes>"
      ]
     },
     "metadata": {},
     "output_type": "display_data"
    }
   ],
   "source": [
    "sns.histplot(data = df, x = \"balance\", kde=True)"
   ]
  },
  {
   "cell_type": "markdown",
   "id": "8176a0bb",
   "metadata": {
    "papermill": {
     "duration": 0.007169,
     "end_time": "2025-06-15T04:31:39.638706",
     "exception": false,
     "start_time": "2025-06-15T04:31:39.631537",
     "status": "completed"
    },
    "tags": []
   },
   "source": [
    "# Interpretation of this plot above:\n",
    "\n",
    "* A lot of concentration near 0 indicating that people have a balance of 0\n",
    "* There is a long extended tail towards the right which indicated positive skeweness going all the way up to more than $80,000 which can show presence of outliers or extreme values which we do have in this case.\n",
    "* Some balance values seems to be negative but not a lot as compared to peak at 0\n",
    "\n",
    "## Things to interpret in terms of customers:\n",
    "* Most customers have very little to no amount in the bank\n",
    "* A small percentage of high value customers have higher account balance\n",
    "* Some customers might be in overdraft"
   ]
  },
  {
   "cell_type": "code",
   "execution_count": 13,
   "id": "fc2a289d",
   "metadata": {
    "_kg_hide-output": true,
    "execution": {
     "iopub.execute_input": "2025-06-15T04:31:39.653932Z",
     "iopub.status.busy": "2025-06-15T04:31:39.652874Z",
     "iopub.status.idle": "2025-06-15T04:31:39.751624Z",
     "shell.execute_reply": "2025-06-15T04:31:39.750910Z"
    },
    "papermill": {
     "duration": 0.107304,
     "end_time": "2025-06-15T04:31:39.752816",
     "exception": false,
     "start_time": "2025-06-15T04:31:39.645512",
     "status": "completed"
    },
    "tags": []
   },
   "outputs": [
    {
     "data": {
      "text/plain": [
       "<Axes: ylabel='balance'>"
      ]
     },
     "execution_count": 13,
     "metadata": {},
     "output_type": "execute_result"
    },
    {
     "data": {
      "image/png": "[encoded data removed]",
      "text/plain": [
       "<Figure size 640x480 with 1 Axes>"
      ]
     },
     "metadata": {},
     "output_type": "display_data"
    }
   ],
   "source": [
    "sns.boxplot(y = df[\"balance\"],data = df)\n",
    "#this plot futher confirms the finidings above"
   ]
  },
  {
   "cell_type": "code",
   "execution_count": 14,
   "id": "68827aa9",
   "metadata": {
    "execution": {
     "iopub.execute_input": "2025-06-15T04:31:39.816267Z",
     "iopub.status.busy": "2025-06-15T04:31:39.815592Z",
     "iopub.status.idle": "2025-06-15T04:31:39.936951Z",
     "shell.execute_reply": "2025-06-15T04:31:39.936168Z"
    },
    "papermill": {
     "duration": 0.130932,
     "end_time": "2025-06-15T04:31:39.938308",
     "exception": false,
     "start_time": "2025-06-15T04:31:39.807376",
     "status": "completed"
    },
    "tags": []
   },
   "outputs": [
    {
     "data": {
      "text/plain": [
       "<Axes: xlabel='education', ylabel='count'>"
      ]
     },
     "execution_count": 14,
     "metadata": {},
     "output_type": "execute_result"
    },
    {
     "data": {
      "image/png": "[encoded data removed]",
      "text/plain": [
       "<Figure size 640x480 with 1 Axes>"
      ]
     },
     "metadata": {},
     "output_type": "display_data"
    }
   ],
   "source": [
    "sns.countplot(x='education', data = df)\n",
    "#people who owns the most accounts are having secondary education"
   ]
  },
  {
   "cell_type": "code",
   "execution_count": 15,
   "id": "5bd126df",
   "metadata": {
    "execution": {
     "iopub.execute_input": "2025-06-15T04:31:39.955036Z",
     "iopub.status.busy": "2025-06-15T04:31:39.954801Z",
     "iopub.status.idle": "2025-06-15T04:31:40.068670Z",
     "shell.execute_reply": "2025-06-15T04:31:40.067959Z"
    },
    "papermill": {
     "duration": 0.123562,
     "end_time": "2025-06-15T04:31:40.069987",
     "exception": false,
     "start_time": "2025-06-15T04:31:39.946425",
     "status": "completed"
    },
    "tags": []
   },
   "outputs": [
    {
     "data": {
      "text/plain": [
       "([<matplotlib.patches.Wedge at 0x77fe9a233810>,\n",
       "  <matplotlib.patches.Wedge at 0x77fe96f56e50>,\n",
       "  <matplotlib.patches.Wedge at 0x77fe96f57e50>,\n",
       "  <matplotlib.patches.Wedge at 0x77fe96f68f90>],\n",
       " [Text(-0.9480728310576615, 0.451284729422912, 'No Loan, No Default'),\n",
       "  Text(0.9175417744690522, -0.5105067013313176, 'No Loan, Defaulted'),\n",
       "  Text(1.0466975041649078, -0.08321258783953928, 'Has Loan, No Default'),\n",
       "  Text(1.049867831961889, -0.016659394095909698, 'Has Loan, Defaulted')])"
      ]
     },
     "execution_count": 15,
     "metadata": {},
     "output_type": "execute_result"
    },
    {
     "data": {
      "image/png": "[encoded data removed]",
      "text/plain": [
       "<Figure size 640x480 with 1 Axes>"
      ]
     },
     "metadata": {},
     "output_type": "display_data"
    }
   ],
   "source": [
    "#shows the relationship between personal loan and credit in default\n",
    "\n",
    "data_counts = {\n",
    "    ('no', 'no'): 8500,  # e.g., Has_Loan: No, Is_Defaulted: No\n",
    "    ('no', 'yes'): 1200, # e.g., Has_Loan: No, Is_Defaulted: Yes\n",
    "    ('yes', 'no'): 150,  # e.g., Has_Loan: Yes, Is_Defaulted: No\n",
    "    ('yes', 'yes'): 50   # e.g., Has_Loan: Yes, Is_Defaulted: Yes \n",
    "}\n",
    "s = pd.Series(data_counts, name = 'count')\n",
    "readable_labels = {\n",
    "    ('no', 'no'): \"No Loan, No Default\",\n",
    "    ('no', 'yes'): \"No Loan, Defaulted\",\n",
    "    ('yes', 'no'): \"Has Loan, No Default\",\n",
    "    ('yes', 'yes'): \"Has Loan, Defaulted\"   \n",
    "}\n",
    "labels = [readable_labels[tpl] for tpl in s.index]\n",
    "plt.pie(s, labels = labels, labeldistance = 1.05)    \n",
    "\n",
    "#most people have not defaulted the loan"
   ]
  },
  {
   "cell_type": "markdown",
   "id": "957271f0",
   "metadata": {
    "papermill": {
     "duration": 0.00813,
     "end_time": "2025-06-15T04:31:40.087108",
     "exception": false,
     "start_time": "2025-06-15T04:31:40.078978",
     "status": "completed"
    },
    "tags": []
   },
   "source": [
    "This pie charts shows something distinct: \n",
    "\n",
    "People with no loan and defaulted: This can be due to 3 reasons: \n",
    "1. The default means defaulting on credit card payments which makes sense looking at the fact that some people hev overdrafted or has balance has 0\n",
    "2. Defaulting on other non-loan debts such as utility bills, phone bills etc through credit"
   ]
  },
  {
   "cell_type": "code",
   "execution_count": 16,
   "id": "1afc0753",
   "metadata": {
    "execution": {
     "iopub.execute_input": "2025-06-15T04:31:40.105597Z",
     "iopub.status.busy": "2025-06-15T04:31:40.105333Z",
     "iopub.status.idle": "2025-06-15T04:31:40.110033Z",
     "shell.execute_reply": "2025-06-15T04:31:40.109487Z"
    },
    "papermill": {
     "duration": 0.01534,
     "end_time": "2025-06-15T04:31:40.111112",
     "exception": false,
     "start_time": "2025-06-15T04:31:40.095772",
     "status": "completed"
    },
    "tags": []
   },
   "outputs": [
    {
     "data": {
      "text/plain": [
       "Index(['age', 'job', 'marital', 'education', 'default', 'balance', 'housing',\n",
       "       'loan', 'contact', 'day', 'month', 'duration', 'campaign', 'pdays',\n",
       "       'previous', 'poutcome', 'deposit'],\n",
       "      dtype='object')"
      ]
     },
     "execution_count": 16,
     "metadata": {},
     "output_type": "execute_result"
    }
   ],
   "source": [
    "df.columns"
   ]
  },
  {
   "cell_type": "code",
   "execution_count": 17,
   "id": "030e9673",
   "metadata": {
    "execution": {
     "iopub.execute_input": "2025-06-15T04:31:40.129117Z",
     "iopub.status.busy": "2025-06-15T04:31:40.128818Z",
     "iopub.status.idle": "2025-06-15T04:31:40.286684Z",
     "shell.execute_reply": "2025-06-15T04:31:40.285941Z"
    },
    "papermill": {
     "duration": 0.168017,
     "end_time": "2025-06-15T04:31:40.287793",
     "exception": false,
     "start_time": "2025-06-15T04:31:40.119776",
     "status": "completed"
    },
    "tags": []
   },
   "outputs": [
    {
     "data": {
      "text/plain": [
       "<Axes: xlabel='marital', ylabel='count'>"
      ]
     },
     "execution_count": 17,
     "metadata": {},
     "output_type": "execute_result"
    },
    {
     "data": {
      "image/png": "[encoded data removed]",
      "text/plain": [
       "<Figure size 640x480 with 1 Axes>"
      ]
     },
     "metadata": {},
     "output_type": "display_data"
    }
   ],
   "source": [
    "sns.countplot(x='marital',hue = 'default', data = df)\n",
    "#divorced people are likey to have slightly higher default"
   ]
  },
  {
   "cell_type": "code",
   "execution_count": 18,
   "id": "f524dced",
   "metadata": {
    "execution": {
     "iopub.execute_input": "2025-06-15T04:31:40.306339Z",
     "iopub.status.busy": "2025-06-15T04:31:40.306123Z",
     "iopub.status.idle": "2025-06-15T04:31:40.701970Z",
     "shell.execute_reply": "2025-06-15T04:31:40.701143Z"
    },
    "papermill": {
     "duration": 0.406777,
     "end_time": "2025-06-15T04:31:40.703616",
     "exception": false,
     "start_time": "2025-06-15T04:31:40.296839",
     "status": "completed"
    },
    "tags": []
   },
   "outputs": [
    {
     "data": {
      "image/png": "[encoded data removed]",
      "text/plain": [
       "<Figure size 1200x800 with 1 Axes>"
      ]
     },
     "metadata": {},
     "output_type": "display_data"
    }
   ],
   "source": [
    "# Calculate proportions within each default group\n",
    "# This calculates (count of job for a default) / (total count for that default)\n",
    "df_proportions = df.groupby('default')['job'].value_counts(normalize=True).mul(100).rename('percentage').reset_index()\n",
    "job_order = df['job'].value_counts().index\n",
    "plt.figure(figsize=(12, 8))\n",
    "\n",
    "ax = sns.barplot(\n",
    "    x='default',\n",
    "    y='percentage',\n",
    "    hue='job',\n",
    "    data=df_proportions,\n",
    "    order=['no', 'yes'],\n",
    "    hue_order=job_order,\n",
    "    palette='muted'\n",
    ")\n",
    "\n",
    "plt.title('Job Distribution by Default Status (Proportions)', fontsize=16)\n",
    "plt.xlabel('Default Status', fontsize=12)\n",
    "plt.ylabel('Percentage (%)', fontsize=12)\n",
    "plt.xticks(fontsize=10)\n",
    "plt.yticks(fontsize=10)\n",
    "\n",
    "plt.legend(title='Job Type', bbox_to_anchor=(1.05, 1), loc='upper left', borderaxespad=0.)\n",
    "\n",
    "# Add percentage labels on top of bars\n",
    "for container in ax.containers:\n",
    "    ax.bar_label(container, fmt='%.1f%%', label_type='edge', fontsize=8, padding=3)\n",
    "\n",
    "plt.tight_layout()\n",
    "plt.show()\n",
    "#mostly blue collar and management and technicien seems to have\n",
    "# defaulted the credit"
   ]
  },
  {
   "cell_type": "code",
   "execution_count": 19,
   "id": "3d1db795",
   "metadata": {
    "execution": {
     "iopub.execute_input": "2025-06-15T04:31:40.725302Z",
     "iopub.status.busy": "2025-06-15T04:31:40.724743Z",
     "iopub.status.idle": "2025-06-15T04:31:40.872698Z",
     "shell.execute_reply": "2025-06-15T04:31:40.871887Z"
    },
    "papermill": {
     "duration": 0.159744,
     "end_time": "2025-06-15T04:31:40.873972",
     "exception": false,
     "start_time": "2025-06-15T04:31:40.714228",
     "status": "completed"
    },
    "tags": []
   },
   "outputs": [
    {
     "data": {
      "text/plain": [
       "<Axes: xlabel='housing', ylabel='count'>"
      ]
     },
     "execution_count": 19,
     "metadata": {},
     "output_type": "execute_result"
    },
    {
     "data": {
      "image/png": "[encoded data removed]",
      "text/plain": [
       "<Figure size 640x480 with 1 Axes>"
      ]
     },
     "metadata": {},
     "output_type": "display_data"
    }
   ],
   "source": [
    "sns.countplot(x='housing',hue = 'default', data = df)\n",
    "#a lot of people with housing loans but not a lot of defaut"
   ]
  },
  {
   "cell_type": "code",
   "execution_count": 20,
   "id": "af0ed7fc",
   "metadata": {
    "execution": {
     "iopub.execute_input": "2025-06-15T04:31:40.896647Z",
     "iopub.status.busy": "2025-06-15T04:31:40.896435Z",
     "iopub.status.idle": "2025-06-15T04:31:41.017527Z",
     "shell.execute_reply": "2025-06-15T04:31:41.016826Z"
    },
    "papermill": {
     "duration": 0.133247,
     "end_time": "2025-06-15T04:31:41.018786",
     "exception": false,
     "start_time": "2025-06-15T04:31:40.885539",
     "status": "completed"
    },
    "tags": []
   },
   "outputs": [
    {
     "name": "stdout",
     "output_type": "stream",
     "text": [
      "\n",
      "Target Variable Distribution:\n",
      "deposit\n",
      "no     5873\n",
      "yes    5289\n",
      "Name: count, dtype: int64\n",
      "deposit\n",
      "no     52.616019\n",
      "yes    47.383981\n",
      "Name: proportion, dtype: float64\n"
     ]
    },
    {
     "data": {
      "image/png": "[encoded data removed]",
      "text/plain": [
       "<Figure size 600x400 with 1 Axes>"
      ]
     },
     "metadata": {},
     "output_type": "display_data"
    }
   ],
   "source": [
    "print(\"\\nTarget Variable Distribution:\")\n",
    "print(df['deposit'].value_counts())\n",
    "print(df['deposit'].value_counts(normalize=True) * 100) # Percentage\n",
    "\n",
    "plt.figure(figsize=(6, 4))\n",
    "sns.countplot(x='deposit', data=df, palette='viridis')\n",
    "plt.title('Distribution of Term Deposit Subscription')\n",
    "plt.xlabel('Subscribed to Term Deposit?')\n",
    "plt.ylabel('Count')\n",
    "plt.show()\n",
    "\n",
    "#mostly people are not subscribed to deposit"
   ]
  },
  {
   "cell_type": "code",
   "execution_count": 21,
   "id": "8f41ed8b",
   "metadata": {
    "execution": {
     "iopub.execute_input": "2025-06-15T04:31:41.042147Z",
     "iopub.status.busy": "2025-06-15T04:31:41.041895Z",
     "iopub.status.idle": "2025-06-15T04:31:41.180545Z",
     "shell.execute_reply": "2025-06-15T04:31:41.179739Z"
    },
    "papermill": {
     "duration": 0.151253,
     "end_time": "2025-06-15T04:31:41.181757",
     "exception": false,
     "start_time": "2025-06-15T04:31:41.030504",
     "status": "completed"
    },
    "tags": []
   },
   "outputs": [
    {
     "name": "stdout",
     "output_type": "stream",
     "text": [
      "\n",
      " Contact Type Distribution:\n",
      "contact\n",
      "cellular     8042\n",
      "unknown      2346\n",
      "telephone     774\n",
      "Name: count, dtype: int64\n",
      "contact\n",
      "cellular     72.048020\n",
      "unknown      21.017739\n",
      "telephone     6.934241\n",
      "Name: proportion, dtype: float64\n"
     ]
    },
    {
     "data": {
      "image/png": "[encoded data removed]",
      "text/plain": [
       "<Figure size 600x400 with 1 Axes>"
      ]
     },
     "metadata": {},
     "output_type": "display_data"
    }
   ],
   "source": [
    "print(\"\\n Contact Type Distribution:\")\n",
    "print(df['contact'].value_counts())\n",
    "print(df['contact'].value_counts(normalize=True) * 100) # Percentage\n",
    "\n",
    "plt.figure(figsize=(6, 4))\n",
    "sns.countplot(x='contact', data=df, palette='viridis')\n",
    "plt.title('Distribution of contact methods')\n",
    "plt.xlabel('Contact Types')\n",
    "plt.ylabel('Count')\n",
    "plt.show()"
   ]
  },
  {
   "cell_type": "code",
   "execution_count": 22,
   "id": "e8706d4b",
   "metadata": {
    "execution": {
     "iopub.execute_input": "2025-06-15T04:31:41.207319Z",
     "iopub.status.busy": "2025-06-15T04:31:41.207003Z",
     "iopub.status.idle": "2025-06-15T04:31:41.354174Z",
     "shell.execute_reply": "2025-06-15T04:31:41.353391Z"
    },
    "papermill": {
     "duration": 0.159839,
     "end_time": "2025-06-15T04:31:41.355344",
     "exception": false,
     "start_time": "2025-06-15T04:31:41.195505",
     "status": "completed"
    },
    "tags": []
   },
   "outputs": [
    {
     "data": {
      "text/plain": [
       "<Axes: xlabel='contact', ylabel='count'>"
      ]
     },
     "execution_count": 22,
     "metadata": {},
     "output_type": "execute_result"
    },
    {
     "data": {
      "image/png": "[encoded data removed]",
      "text/plain": [
       "<Figure size 640x480 with 1 Axes>"
      ]
     },
     "metadata": {},
     "output_type": "display_data"
    }
   ],
   "source": [
    "sns.countplot(x='contact',hue = 'deposit', data = df)\n",
    "#mostly people said yes when contacted on phone"
   ]
  },
  {
   "cell_type": "code",
   "execution_count": 23,
   "id": "424f41d4",
   "metadata": {
    "execution": {
     "iopub.execute_input": "2025-06-15T04:31:41.380460Z",
     "iopub.status.busy": "2025-06-15T04:31:41.379943Z",
     "iopub.status.idle": "2025-06-15T04:31:41.537362Z",
     "shell.execute_reply": "2025-06-15T04:31:41.536662Z"
    },
    "papermill": {
     "duration": 0.171025,
     "end_time": "2025-06-15T04:31:41.538511",
     "exception": false,
     "start_time": "2025-06-15T04:31:41.367486",
     "status": "completed"
    },
    "tags": []
   },
   "outputs": [
    {
     "name": "stdout",
     "output_type": "stream",
     "text": [
      "          count        mean         std  min    25%    50%    75%     max\n",
      "deposit                                                                  \n",
      "no       5873.0  223.130257  208.577530  2.0   94.0  163.0  282.0  3284.0\n",
      "yes      5289.0  537.294574  392.525262  8.0  244.0  426.0  725.0  3881.0\n"
     ]
    },
    {
     "data": {
      "image/png": "[encoded data removed]",
      "text/plain": [
       "<Figure size 1000x600 with 1 Axes>"
      ]
     },
     "metadata": {},
     "output_type": "display_data"
    }
   ],
   "source": [
    "# Analyze duration for insight\n",
    "print(df.groupby('deposit')['duration'].describe())\n",
    "plt.figure(figsize=(10, 6))\n",
    "sns.boxplot(x='deposit', y='duration', data=df, palette='viridis', showfliers=False) # showfliers=False to remove extreme outliers for clearer view\n",
    "plt.title('Call Duration by Deposit Subscription', fontsize=16)\n",
    "plt.xlabel('Subscribed to Term Deposit?')\n",
    "plt.ylabel('Call Duration (seconds)')\n",
    "plt.show()\n",
    "\n",
    "#more contact/duration seems to be leading to better conversation rate"
   ]
  },
  {
   "cell_type": "code",
   "execution_count": 24,
   "id": "164be872",
   "metadata": {
    "execution": {
     "iopub.execute_input": "2025-06-15T04:31:41.563802Z",
     "iopub.status.busy": "2025-06-15T04:31:41.563305Z",
     "iopub.status.idle": "2025-06-15T04:31:41.569398Z",
     "shell.execute_reply": "2025-06-15T04:31:41.568831Z"
    },
    "papermill": {
     "duration": 0.01933,
     "end_time": "2025-06-15T04:31:41.570410",
     "exception": false,
     "start_time": "2025-06-15T04:31:41.551080",
     "status": "completed"
    },
    "tags": []
   },
   "outputs": [
    {
     "data": {
      "text/plain": [
       "deposit\n",
       "no     5873\n",
       "yes    5289\n",
       "Name: count, dtype: int64"
      ]
     },
     "execution_count": 24,
     "metadata": {},
     "output_type": "execute_result"
    }
   ],
   "source": [
    "df['deposit'].value_counts()"
   ]
  },
  {
   "cell_type": "code",
   "execution_count": 25,
   "id": "6e4a5579",
   "metadata": {
    "execution": {
     "iopub.execute_input": "2025-06-15T04:31:41.594132Z",
     "iopub.status.busy": "2025-06-15T04:31:41.593920Z",
     "iopub.status.idle": "2025-06-15T04:31:41.598708Z",
     "shell.execute_reply": "2025-06-15T04:31:41.598184Z"
    },
    "papermill": {
     "duration": 0.01773,
     "end_time": "2025-06-15T04:31:41.599640",
     "exception": false,
     "start_time": "2025-06-15T04:31:41.581910",
     "status": "completed"
    },
    "tags": []
   },
   "outputs": [],
   "source": [
    "df['deposit_numeric'] = df['deposit'].map({'no':0,'yes': 1})"
   ]
  },
  {
   "cell_type": "code",
   "execution_count": 26,
   "id": "678de39f",
   "metadata": {
    "execution": {
     "iopub.execute_input": "2025-06-15T04:31:41.623373Z",
     "iopub.status.busy": "2025-06-15T04:31:41.623179Z",
     "iopub.status.idle": "2025-06-15T04:31:41.627780Z",
     "shell.execute_reply": "2025-06-15T04:31:41.627256Z"
    },
    "papermill": {
     "duration": 0.01769,
     "end_time": "2025-06-15T04:31:41.628811",
     "exception": false,
     "start_time": "2025-06-15T04:31:41.611121",
     "status": "completed"
    },
    "tags": []
   },
   "outputs": [],
   "source": [
    "x = df.drop(['deposit','deposit_numeric','duration'], axis=1)\n",
    "y = df['deposit_numeric']"
   ]
  },
  {
   "cell_type": "code",
   "execution_count": 27,
   "id": "f1097cd6",
   "metadata": {
    "execution": {
     "iopub.execute_input": "2025-06-15T04:31:41.652370Z",
     "iopub.status.busy": "2025-06-15T04:31:41.652140Z",
     "iopub.status.idle": "2025-06-15T04:31:41.656308Z",
     "shell.execute_reply": "2025-06-15T04:31:41.655774Z"
    },
    "papermill": {
     "duration": 0.017078,
     "end_time": "2025-06-15T04:31:41.657377",
     "exception": false,
     "start_time": "2025-06-15T04:31:41.640299",
     "status": "completed"
    },
    "tags": []
   },
   "outputs": [
    {
     "data": {
      "text/plain": [
       "(11162, 15)"
      ]
     },
     "execution_count": 27,
     "metadata": {},
     "output_type": "execute_result"
    }
   ],
   "source": [
    "x.shape"
   ]
  },
  {
   "cell_type": "code",
   "execution_count": 28,
   "id": "a3c3dec6",
   "metadata": {
    "_kg_hide-input": true,
    "execution": {
     "iopub.execute_input": "2025-06-15T04:31:41.681277Z",
     "iopub.status.busy": "2025-06-15T04:31:41.680834Z",
     "iopub.status.idle": "2025-06-15T04:31:41.685314Z",
     "shell.execute_reply": "2025-06-15T04:31:41.684629Z"
    },
    "papermill": {
     "duration": 0.017591,
     "end_time": "2025-06-15T04:31:41.686386",
     "exception": false,
     "start_time": "2025-06-15T04:31:41.668795",
     "status": "completed"
    },
    "tags": []
   },
   "outputs": [
    {
     "data": {
      "text/plain": [
       "(11162,)"
      ]
     },
     "execution_count": 28,
     "metadata": {},
     "output_type": "execute_result"
    }
   ],
   "source": [
    "y.shape"
   ]
  },
  {
   "cell_type": "code",
   "execution_count": 29,
   "id": "29636eb1",
   "metadata": {
    "execution": {
     "iopub.execute_input": "2025-06-15T04:31:41.710508Z",
     "iopub.status.busy": "2025-06-15T04:31:41.710322Z",
     "iopub.status.idle": "2025-06-15T04:31:41.722715Z",
     "shell.execute_reply": "2025-06-15T04:31:41.721821Z"
    },
    "papermill": {
     "duration": 0.025733,
     "end_time": "2025-06-15T04:31:41.723747",
     "exception": false,
     "start_time": "2025-06-15T04:31:41.698014",
     "status": "completed"
    },
    "tags": []
   },
   "outputs": [
    {
     "name": "stdout",
     "output_type": "stream",
     "text": [
      "<class 'pandas.core.frame.DataFrame'>\n",
      "RangeIndex: 11162 entries, 0 to 11161\n",
      "Data columns (total 15 columns):\n",
      " #   Column     Non-Null Count  Dtype \n",
      "---  ------     --------------  ----- \n",
      " 0   age        11162 non-null  int64 \n",
      " 1   job        11162 non-null  object\n",
      " 2   marital    11162 non-null  object\n",
      " 3   education  11162 non-null  object\n",
      " 4   default    11162 non-null  object\n",
      " 5   balance    11162 non-null  int64 \n",
      " 6   housing    11162 non-null  object\n",
      " 7   loan       11162 non-null  object\n",
      " 8   contact    11162 non-null  object\n",
      " 9   day        11162 non-null  int64 \n",
      " 10  month      11162 non-null  object\n",
      " 11  campaign   11162 non-null  int64 \n",
      " 12  pdays      11162 non-null  int64 \n",
      " 13  previous   11162 non-null  int64 \n",
      " 14  poutcome   11162 non-null  object\n",
      "dtypes: int64(6), object(9)\n",
      "memory usage: 1.3+ MB\n"
     ]
    }
   ],
   "source": [
    "x.info()"
   ]
  },
  {
   "cell_type": "code",
   "execution_count": 30,
   "id": "34060871",
   "metadata": {
    "execution": {
     "iopub.execute_input": "2025-06-15T04:31:41.749560Z",
     "iopub.status.busy": "2025-06-15T04:31:41.749288Z",
     "iopub.status.idle": "2025-06-15T04:31:41.754167Z",
     "shell.execute_reply": "2025-06-15T04:31:41.753635Z"
    },
    "papermill": {
     "duration": 0.018993,
     "end_time": "2025-06-15T04:31:41.755347",
     "exception": false,
     "start_time": "2025-06-15T04:31:41.736354",
     "status": "completed"
    },
    "tags": []
   },
   "outputs": [],
   "source": [
    "categorical_features = x.select_dtypes(include='object').columns\n",
    "numerical_features = x.select_dtypes(include=np.number).columns"
   ]
  },
  {
   "cell_type": "code",
   "execution_count": 31,
   "id": "b3bdffdc",
   "metadata": {
    "execution": {
     "iopub.execute_input": "2025-06-15T04:31:41.781813Z",
     "iopub.status.busy": "2025-06-15T04:31:41.781329Z",
     "iopub.status.idle": "2025-06-15T04:31:41.785742Z",
     "shell.execute_reply": "2025-06-15T04:31:41.785007Z"
    },
    "papermill": {
     "duration": 0.019348,
     "end_time": "2025-06-15T04:31:41.786852",
     "exception": false,
     "start_time": "2025-06-15T04:31:41.767504",
     "status": "completed"
    },
    "tags": []
   },
   "outputs": [],
   "source": [
    "#need to create a pipeline to process this better:\n",
    "from sklearn.preprocessing import OneHotEncoder\n",
    "from sklearn.preprocessing import OrdinalEncoder\n",
    "from sklearn.compose import ColumnTransformer\n",
    "numeric_transform = StandardScaler()\n",
    "categoric_transform = OneHotEncoder(handle_unknown = 'ignore')\n",
    "\n",
    "preprocessor = ColumnTransformer(\n",
    "    transformers =[ ('num',numeric_transform, numerical_features),\n",
    "    ('cat', categoric_transform, categorical_features)\n",
    "                  ],\n",
    "    remainder = 'passthrough'\n",
    ")"
   ]
  },
  {
   "cell_type": "code",
   "execution_count": 32,
   "id": "222772e8",
   "metadata": {
    "execution": {
     "iopub.execute_input": "2025-06-15T04:31:41.811841Z",
     "iopub.status.busy": "2025-06-15T04:31:41.811382Z",
     "iopub.status.idle": "2025-06-15T04:31:41.820980Z",
     "shell.execute_reply": "2025-06-15T04:31:41.820461Z"
    },
    "papermill": {
     "duration": 0.023383,
     "end_time": "2025-06-15T04:31:41.822007",
     "exception": false,
     "start_time": "2025-06-15T04:31:41.798624",
     "status": "completed"
    },
    "tags": []
   },
   "outputs": [],
   "source": [
    "x_train, x_test, y_train,y_test = train_test_split(x,y,test_size = .20,random_state = 42, stratify = y)\n"
   ]
  },
  {
   "cell_type": "code",
   "execution_count": 33,
   "id": "912dd766",
   "metadata": {
    "execution": {
     "iopub.execute_input": "2025-06-15T04:31:41.846503Z",
     "iopub.status.busy": "2025-06-15T04:31:41.846259Z",
     "iopub.status.idle": "2025-06-15T04:31:44.819895Z",
     "shell.execute_reply": "2025-06-15T04:31:44.818639Z"
    },
    "papermill": {
     "duration": 2.987329,
     "end_time": "2025-06-15T04:31:44.821289",
     "exception": false,
     "start_time": "2025-06-15T04:31:41.833960",
     "status": "completed"
    },
    "tags": []
   },
   "outputs": [
    {
     "name": "stdout",
     "output_type": "stream",
     "text": [
      "Requirement already satisfied: imbalanced-learn in /usr/local/lib/python3.11/dist-packages (0.13.0)\r\n",
      "Requirement already satisfied: numpy<3,>=1.24.3 in /usr/local/lib/python3.11/dist-packages (from imbalanced-learn) (1.26.4)\r\n",
      "Requirement already satisfied: scipy<2,>=1.10.1 in /usr/local/lib/python3.11/dist-packages (from imbalanced-learn) (1.15.2)\r\n",
      "Requirement already satisfied: scikit-learn<2,>=1.3.2 in /usr/local/lib/python3.11/dist-packages (from imbalanced-learn) (1.3.2)\r\n",
      "Requirement already satisfied: sklearn-compat<1,>=0.1 in /usr/local/lib/python3.11/dist-packages (from imbalanced-learn) (0.1.3)\r\n",
      "Requirement already satisfied: joblib<2,>=1.1.1 in /usr/local/lib/python3.11/dist-packages (from imbalanced-learn) (1.5.0)\r\n",
      "Requirement already satisfied: threadpoolctl<4,>=2.0.0 in /usr/local/lib/python3.11/dist-packages (from imbalanced-learn) (3.6.0)\r\n",
      "Requirement already satisfied: mkl_fft in /usr/local/lib/python3.11/dist-packages (from numpy<3,>=1.24.3->imbalanced-learn) (1.3.8)\r\n",
      "Requirement already satisfied: mkl_random in /usr/local/lib/python3.11/dist-packages (from numpy<3,>=1.24.3->imbalanced-learn) (1.2.4)\r\n",
      "Requirement already satisfied: mkl_umath in /usr/local/lib/python3.11/dist-packages (from numpy<3,>=1.24.3->imbalanced-learn) (0.1.1)\r\n",
      "Requirement already satisfied: mkl in /usr/local/lib/python3.11/dist-packages (from numpy<3,>=1.24.3->imbalanced-learn) (2025.1.0)\r\n",
      "Requirement already satisfied: tbb4py in /usr/local/lib/python3.11/dist-packages (from numpy<3,>=1.24.3->imbalanced-learn) (2022.1.0)\r\n",
      "Requirement already satisfied: mkl-service in /usr/local/lib/python3.11/dist-packages (from numpy<3,>=1.24.3->imbalanced-learn) (2.4.1)\r\n",
      "Requirement already satisfied: intel-openmp<2026,>=2024 in /usr/local/lib/python3.11/dist-packages (from mkl->numpy<3,>=1.24.3->imbalanced-learn) (2024.2.0)\r\n",
      "Requirement already satisfied: tbb==2022.* in /usr/local/lib/python3.11/dist-packages (from mkl->numpy<3,>=1.24.3->imbalanced-learn) (2022.1.0)\r\n",
      "Requirement already satisfied: tcmlib==1.* in /usr/local/lib/python3.11/dist-packages (from tbb==2022.*->mkl->numpy<3,>=1.24.3->imbalanced-learn) (1.3.0)\r\n",
      "Requirement already satisfied: intel-cmplr-lib-rt in /usr/local/lib/python3.11/dist-packages (from mkl_umath->numpy<3,>=1.24.3->imbalanced-learn) (2024.2.0)\r\n",
      "Requirement already satisfied: intel-cmplr-lib-ur==2024.2.0 in /usr/local/lib/python3.11/dist-packages (from intel-openmp<2026,>=2024->mkl->numpy<3,>=1.24.3->imbalanced-learn) (2024.2.0)\r\n",
      "Note: you may need to restart the kernel to use updated packages.\n"
     ]
    }
   ],
   "source": [
    "pip install imbalanced-learn"
   ]
  },
  {
   "cell_type": "code",
   "execution_count": 34,
   "id": "19df9a43",
   "metadata": {
    "execution": {
     "iopub.execute_input": "2025-06-15T04:31:44.850802Z",
     "iopub.status.busy": "2025-06-15T04:31:44.850509Z",
     "iopub.status.idle": "2025-06-15T04:31:45.106796Z",
     "shell.execute_reply": "2025-06-15T04:31:45.106235Z"
    },
    "papermill": {
     "duration": 0.272985,
     "end_time": "2025-06-15T04:31:45.108106",
     "exception": false,
     "start_time": "2025-06-15T04:31:44.835121",
     "status": "completed"
    },
    "tags": []
   },
   "outputs": [],
   "source": [
    "#handling the imbalaced dataset with SMOTE\n",
    "from sklearn.linear_model import LogisticRegression\n",
    "from sklearn.ensemble import RandomForestClassifier\n",
    "from xgboost import XGBClassifier\n",
    "\n",
    "#the first model is LogisticRegression\n",
    "model = {\n",
    "\"lr\" : LogisticRegression(class_weight = 'balanced', random_state = 42),\n",
    "\"rfc\" : RandomForestClassifier(random_state= 42, n_estimators = 100, class_weight = 'balanced'),\n",
    "\"xgbc\" : XGBClassifier( eval_metric = 'logloss', random_state = 42)\n",
    "}\n",
    "\n",
    "\n",
    "def train_and_evaluate_pipelines(models, preprocessor, X_train, y_train, X_test, y_test):\n",
    "    \"\"\"\n",
    "    Trains and evaluates multiple classification models using an ImbPipeline\n",
    "    that includes preprocessing and SMOTE oversampling.\n",
    "\n",
    "    Args:\n",
    "        models (dict): A dictionary where keys are model names (str) and values are\n",
    "                       unfitted scikit-learn classifier objects.\n",
    "        preprocessor (ColumnTransformer): The fitted ColumnTransformer for data preprocessing.\n",
    "        x_train (pd.DataFrame): Training features.\n",
    "        y_train (pd.Series): Training target.\n",
    "        x_test (pd.DataFrame): Testing features.\n",
    "        y_test (pd.Series): Testing target.\n",
    "\n",
    "    Returns:\n",
    "        dict: A dictionary containing:\n",
    "              - 'fitted_pipelines': A dictionary of fitted pipelines.\n",
    "              - 'results': A dictionary of evaluation metrics for each model.\n",
    "    \"\"\"\n",
    "    fitted_pipelines = {}\n",
    "    results = {}\n",
    "\n",
    "    for name, model in models.items():\n",
    "        print(f\"\\n--- Training and Evaluating: {name} ---\")\n",
    "\n",
    "        # Create the ImbPipeline\n",
    "        # It includes preprocessing, SMOTE, and the classifier\n",
    "        pipeline = ImbPipeline(steps=[\n",
    "            ('preprocessor', preprocessor),\n",
    "            ('smote', SMOTE(random_state=42)),\n",
    "            ('classifier', model)\n",
    "        ])\n",
    "\n",
    "        try:\n",
    "            # Fit the pipeline\n",
    "            pipeline.fit(X_train, y_train)\n",
    "            fitted_pipelines[name] = pipeline\n",
    "\n",
    "            # Make predictions\n",
    "            y_pred = pipeline.predict(X_test)\n",
    "            y_proba = pipeline.predict_proba(X_test)[:, 1] # Probability of the positive class\n",
    "\n",
    "            # Calculate metrics\n",
    "            report = classification_report(y_test, y_pred, target_names=['No Deposit', 'Yes Deposit'], output_dict=True)\n",
    "            roc_auc = roc_auc_score(y_test, y_proba)\n",
    "            \n",
    "            # For PR AUC\n",
    "            precision, recall, _ = precision_recall_curve(y_test, y_proba)\n",
    "            pr_auc = auc(recall, precision)\n",
    "            \n",
    "            # Confusion Matrix\n",
    "            cm = confusion_matrix(y_test, y_pred)\n",
    "\n",
    "\n",
    "            results[name] = {\n",
    "                'classification_report': report,\n",
    "                'roc_auc': roc_auc,\n",
    "                'pr_auc': pr_auc,\n",
    "                'confusion_matrix': cm\n",
    "            }\n",
    "\n",
    "            # Print summary for immediate feedback\n",
    "            print(f\"  {name} - ROC AUC: {roc_auc:.4f}\")\n",
    "            print(f\"  {name} - PR AUC: {pr_auc:.4f}\")\n",
    "            print(f\"  {name} - Classification Report (Yes Deposit):\\n\"\n",
    "                  f\"    Precision: {report['Yes Deposit']['precision']:.4f}\\n\"\n",
    "                  f\"    Recall:    {report['Yes Deposit']['recall']:.4f}\\n\"\n",
    "                  f\"    F1-score:  {report['Yes Deposit']['f1-score']:.4f}\")\n",
    "            print(f\"  {name} - Confusion Matrix:\\n{cm}\")\n",
    "\n",
    "\n",
    "        except Exception as e:\n",
    "            print(f\"  Error training or evaluating {name}: {e}\")\n",
    "            results[name] = {'error': str(e)}\n",
    "\n",
    "    return fitted_pipelines, results"
   ]
  },
  {
   "cell_type": "code",
   "execution_count": 35,
   "id": "03c471ee",
   "metadata": {
    "execution": {
     "iopub.execute_input": "2025-06-15T04:31:45.133398Z",
     "iopub.status.busy": "2025-06-15T04:31:45.133180Z",
     "iopub.status.idle": "2025-06-15T04:31:47.636733Z",
     "shell.execute_reply": "2025-06-15T04:31:47.636160Z"
    },
    "papermill": {
     "duration": 2.517069,
     "end_time": "2025-06-15T04:31:47.637847",
     "exception": false,
     "start_time": "2025-06-15T04:31:45.120778",
     "status": "completed"
    },
    "tags": []
   },
   "outputs": [
    {
     "name": "stdout",
     "output_type": "stream",
     "text": [
      "\n",
      "--- Training and Evaluating: lr ---\n",
      "  lr - ROC AUC: 0.7565\n",
      "  lr - PR AUC: 0.7582\n",
      "  lr - Classification Report (Yes Deposit):\n",
      "    Precision: 0.7091\n",
      "    Recall:    0.5898\n",
      "    F1-score:  0.6440\n",
      "  lr - Confusion Matrix:\n",
      "[[919 256]\n",
      " [434 624]]\n",
      "\n",
      "--- Training and Evaluating: rfc ---\n",
      "  rfc - ROC AUC: 0.7742\n",
      "  rfc - PR AUC: 0.7713\n",
      "  rfc - Classification Report (Yes Deposit):\n",
      "    Precision: 0.7414\n",
      "    Recall:    0.6342\n",
      "    F1-score:  0.6836\n",
      "  rfc - Confusion Matrix:\n",
      "[[941 234]\n",
      " [387 671]]\n",
      "\n",
      "--- Training and Evaluating: xgbc ---\n",
      "  xgbc - ROC AUC: 0.7762\n",
      "  xgbc - PR AUC: 0.7814\n",
      "  xgbc - Classification Report (Yes Deposit):\n",
      "    Precision: 0.7382\n",
      "    Recall:    0.6342\n",
      "    F1-score:  0.6823\n",
      "  xgbc - Confusion Matrix:\n",
      "[[937 238]\n",
      " [387 671]]\n"
     ]
    }
   ],
   "source": [
    "fitted_pipelines, results = train_and_evaluate_pipelines(\n",
    "    model,\n",
    "    preprocessor,\n",
    "    x_train, y_train,\n",
    "    x_test, y_test\n",
    ")"
   ]
  },
  {
   "cell_type": "code",
   "execution_count": 36,
   "id": "494a8d4f",
   "metadata": {
    "execution": {
     "iopub.execute_input": "2025-06-15T04:31:47.665682Z",
     "iopub.status.busy": "2025-06-15T04:31:47.664946Z",
     "iopub.status.idle": "2025-06-15T04:31:47.670419Z",
     "shell.execute_reply": "2025-06-15T04:31:47.669751Z"
    },
    "papermill": {
     "duration": 0.020217,
     "end_time": "2025-06-15T04:31:47.671517",
     "exception": false,
     "start_time": "2025-06-15T04:31:47.651300",
     "status": "completed"
    },
    "tags": []
   },
   "outputs": [
    {
     "name": "stdout",
     "output_type": "stream",
     "text": [
      "\n",
      "--- All Model Results Summary ---\n",
      "\n",
      "lr:\n",
      "  ROC AUC: 0.7565\n",
      "  PR AUC:  0.7582\n",
      "  F1-score (Yes Deposit): 0.6440\n",
      "  Recall (Yes Deposit): 0.5898\n",
      "  Precision (Yes Deposit): 0.7091\n",
      "\n",
      "rfc:\n",
      "  ROC AUC: 0.7742\n",
      "  PR AUC:  0.7713\n",
      "  F1-score (Yes Deposit): 0.6836\n",
      "  Recall (Yes Deposit): 0.6342\n",
      "  Precision (Yes Deposit): 0.7414\n",
      "\n",
      "xgbc:\n",
      "  ROC AUC: 0.7762\n",
      "  PR AUC:  0.7814\n",
      "  F1-score (Yes Deposit): 0.6823\n",
      "  Recall (Yes Deposit): 0.6342\n",
      "  Precision (Yes Deposit): 0.7382\n"
     ]
    }
   ],
   "source": [
    "print(\"\\n--- All Model Results Summary ---\")\n",
    "for name, res in results.items():\n",
    "    if 'error' in res:\n",
    "        print(f\"{name}: Error - {res['error']}\")\n",
    "    else:\n",
    "        print(f\"\\n{name}:\")\n",
    "        print(f\"  ROC AUC: {res['roc_auc']:.4f}\")\n",
    "        print(f\"  PR AUC:  {res['pr_auc']:.4f}\")\n",
    "        print(f\"  F1-score (Yes Deposit): {res['classification_report']['Yes Deposit']['f1-score']:.4f}\")\n",
    "        print(f\"  Recall (Yes Deposit): {res['classification_report']['Yes Deposit']['recall']:.4f}\")\n",
    "        print(f\"  Precision (Yes Deposit): {res['classification_report']['Yes Deposit']['precision']:.4f}\")"
   ]
  },
  {
   "cell_type": "markdown",
   "id": "68c3474d",
   "metadata": {
    "papermill": {
     "duration": 0.012083,
     "end_time": "2025-06-15T04:31:47.696095",
     "exception": false,
     "start_time": "2025-06-15T04:31:47.684012",
     "status": "completed"
    },
    "tags": []
   },
   "source": [
    "# Summary \n",
    "\n",
    "#### Despite some challenges with this imbalanced dataset where only a small % of clients subscribed, the ML model developped demonstrated some strong capabilities. With PR AUC of .78 and F1 score for subscribers around.68\n",
    "\n"
   ]
  },
  {
   "cell_type": "markdown",
   "id": "d3185ac4",
   "metadata": {
    "papermill": {
     "duration": 0.012157,
     "end_time": "2025-06-15T04:31:47.720717",
     "exception": false,
     "start_time": "2025-06-15T04:31:47.708560",
     "status": "completed"
    },
    "tags": []
   },
   "source": [
    "### Key Findings\n",
    "\n",
    "* Clients in student, retired, and unemployed categories surprisingly showed a higher proportion of term deposit subscriptions, despite their potentially smaller absolute numbers. admin. and technician also contributed significantly in terms of absolute subscribers.\n",
    "* Age: Both younger (e.g., 20-30s) and older (e.g., 60+) age groups tend to have higher subscription rates compared to middle-aged groups.\n",
    "* Marital Status & Education: single clients and those with university.degree or high.school education often exhibit slightly higher subscription rates.\n",
    "* Contact Method: cellular contact is significantly more effective than telephone contact in securing subscriptions. The 'unknown' contact type yielded virtually no conversions.\n",
    "* Call Duration (duration): This is a key indicator, not a predictor for pre-call targeting. Calls that last longer are overwhelmingly more likely to result in a subscription. This indicates client engagement.\n",
    "* Insight: An average successful call lasts significantly longer than an unsuccessful one."
   ]
  },
  {
   "cell_type": "markdown",
   "id": "077901b7",
   "metadata": {
    "papermill": {
     "duration": 0.012173,
     "end_time": "2025-06-15T04:31:47.745032",
     "exception": false,
     "start_time": "2025-06-15T04:31:47.732859",
     "status": "completed"
    },
    "tags": []
   },
   "source": [
    "# Actionable Marketing Advice for the Bank\n",
    "\n",
    "* Prime Targets: Prioritize outreach to students, retired individuals, and unemployed clients, as well as those in admin. and technician roles.\n",
    "* Age Focus: Tailor campaigns for younger adults (20-30s) and seniors (60+) as these groups are more receptive.\n",
    "* Relationship Status: Consider focusing on single clients.\n",
    "* Education Level: Clients with university degrees or high school education are more likely to convert.\n",
    "* Channel Preference: Heavily favor cellular contact methods over telephone for direct outreach. Avoid using 'unknown' contact types.\n",
    "\n"
   ]
  },
  {
   "cell_type": "markdown",
   "id": "9518e80b",
   "metadata": {
    "papermill": {
     "duration": 0.01188,
     "end_time": "2025-06-15T04:31:47.768975",
     "exception": false,
     "start_time": "2025-06-15T04:31:47.757095",
     "status": "completed"
    },
    "tags": []
   },
   "source": [
    "# Please like if you found this useful :)\n"
   ]
  }
 ],
 "metadata": {
  "kaggle": {
   "accelerator": "gpu",
   "dataSources": [
    {
     "datasetId": 4471,
     "sourceId": 6849,
     "sourceType": "datasetVersion"
    }
   ],
   "dockerImageVersionId": 31040,
   "isGpuEnabled": true,
   "isInternetEnabled": true,
   "language": "python",
   "sourceType": "notebook"
  },
  "kernelspec": {
   "display_name": "Python 3",
   "language": "python",
   "name": "python3"
  },
  "language_info": {
   "codemirror_mode": {
    "name": "ipython",
    "version": 3
   },
   "file_extension": ".py",
   "mimetype": "text/x-python",
   "name": "python",
   "nbconvert_exporter": "python",
   "pygments_lexer": "ipython3",
   "version": "3.11.11"
  },
  "papermill": {
   "default_parameters": {},
   "duration": 25.964586,
   "end_time": "2025-06-15T04:31:48.600853",
   "environment_variables": {},
   "exception": null,
   "input_path": "__notebook__.ipynb",
   "output_path": "__notebook__.ipynb",
   "parameters": {},
   "start_time": "2025-06-15T04:31:22.636267",
   "version": "2.6.0"
  }
 },
 "nbformat": 4,
 "nbformat_minor": 5
}
